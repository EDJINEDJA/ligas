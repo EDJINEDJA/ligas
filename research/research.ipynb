{
 "cells": [
  {
   "cell_type": "code",
   "execution_count": 31,
   "metadata": {},
   "outputs": [
    {
     "name": "stdout",
     "output_type": "stream",
     "text": [
      "Requirement already satisfied: python-box in /home/laris/anaconda3/lib/python3.11/site-packages (7.2.0)\n",
      "Requirement already satisfied: pyYAML in /home/laris/anaconda3/lib/python3.11/site-packages (6.0.1)\n",
      "Requirement already satisfied: ensure==1.0.2 in /home/laris/anaconda3/lib/python3.11/site-packages (1.0.2)\n",
      "Requirement already satisfied: six>=1.11.0 in /home/laris/anaconda3/lib/python3.11/site-packages (from ensure==1.0.2) (1.16.0)\n"
     ]
    }
   ],
   "source": [
    "! pip install python-box\n",
    "! pip install pyYAML\n",
    "! pip install ensure==1.0.2"
   ]
  },
  {
   "cell_type": "code",
   "execution_count": 25,
   "metadata": {},
   "outputs": [
    {
     "name": "stdout",
     "output_type": "stream",
     "text": [
      "[2024-08-19 12:52:02,369: INFO: utils: yaml file: /home/laris/Bureau/ligas/src/ligas/headers.yml loaded successfully]\n"
     ]
    }
   ],
   "source": [
    "import os\n",
    "from ligas.utils import read_yaml\n",
    "from pathlib import Path\n",
    "import random\n",
    "global headersKey\n",
    "headersKey = [\"Chrome\", \"Edge\", \"Firefox\", \"IE\", \"Other\"]\n",
    "\n",
    "os.getcwd()\n",
    "\n",
    "package_dir = os.path.dirname(os.getcwd())\n",
    "headers = read_yaml(Path(os.path.join(package_dir, \"src/ligas/headers.yml\")))\n",
    "choice = random.choice(headersKey)"
   ]
  },
  {
   "cell_type": "code",
   "execution_count": 26,
   "metadata": {},
   "outputs": [],
   "source": [
    "header = headers.get(choice).to_dict()"
   ]
  },
  {
   "cell_type": "code",
   "execution_count": 27,
   "metadata": {},
   "outputs": [
    {
     "data": {
      "text/plain": [
       "{'Accept': 'text/html,application/xhtml+xml,application/xml;q=0.9,image/avif,image/webp,*/*;q=0.8',\n",
       " 'Accept-Encoding': 'gzip, deflate, br',\n",
       " 'Accept-Language': 'fr,fr-FR;q=0.8,en-US;q=0.5,en;q=0.3',\n",
       " 'Connection': 'keep-alive',\n",
       " 'DNT': '1',\n",
       " 'Upgrade-Insecure-Requests': '1',\n",
       " 'Sec-Fetch-Dest': 'document',\n",
       " 'Sec-Fetch-Mode': 'navigate',\n",
       " 'Sec-Fetch-Site': 'cross-site',\n",
       " 'User-Agent': 'Mozilla/5.0 (Windows NT 10.0; Win64; x64; rv:94.0) Gecko/20100101 Firefox/94.0'}"
      ]
     },
     "execution_count": 27,
     "metadata": {},
     "output_type": "execute_result"
    }
   ],
   "source": [
    "header"
   ]
  },
  {
   "cell_type": "code",
   "execution_count": 28,
   "metadata": {},
   "outputs": [
    {
     "data": {
      "text/plain": [
       "'Firefox'"
      ]
     },
     "execution_count": 28,
     "metadata": {},
     "output_type": "execute_result"
    }
   ],
   "source": [
    "choice"
   ]
  }
 ],
 "metadata": {
  "kernelspec": {
   "display_name": "Python 3",
   "language": "python",
   "name": "python3"
  },
  "language_info": {
   "codemirror_mode": {
    "name": "ipython",
    "version": 3
   },
   "file_extension": ".py",
   "mimetype": "text/x-python",
   "name": "python",
   "nbconvert_exporter": "python",
   "pygments_lexer": "ipython3",
   "version": "3.11.7"
  }
 },
 "nbformat": 4,
 "nbformat_minor": 2
}
