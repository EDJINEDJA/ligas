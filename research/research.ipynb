{
 "cells": [
  {
   "cell_type": "code",
   "execution_count": 2,
   "metadata": {},
   "outputs": [
    {
     "name": "stdout",
     "output_type": "stream",
     "text": [
      "Collecting python-box\n",
      "  Downloading python_box-7.2.0-cp39-cp39-win_amd64.whl (1.2 MB)\n",
      "     ---------------------------------------- 1.2/1.2 MB 15.1 MB/s eta 0:00:00\n",
      "Installing collected packages: python-box\n",
      "Successfully installed python-box-7.2.0\n"
     ]
    },
    {
     "name": "stderr",
     "output_type": "stream",
     "text": [
      "\n",
      "[notice] A new release of pip available: 22.3 -> 24.2\n",
      "[notice] To update, run: python.exe -m pip install --upgrade pip\n"
     ]
    },
    {
     "name": "stdout",
     "output_type": "stream",
     "text": [
      "Requirement already satisfied: pyYAML in c:\\users\\idrissou\\anaconda3\\lib\\site-packages (6.0)\n"
     ]
    },
    {
     "name": "stderr",
     "output_type": "stream",
     "text": [
      "\n",
      "[notice] A new release of pip available: 22.3 -> 24.2\n",
      "[notice] To update, run: python.exe -m pip install --upgrade pip\n"
     ]
    },
    {
     "name": "stdout",
     "output_type": "stream",
     "text": [
      "Collecting ensure==1.0.2\n",
      "  Downloading ensure-1.0.2-py2.py3-none-any.whl (15 kB)\n",
      "Requirement already satisfied: six>=1.11.0 in c:\\users\\idrissou\\anaconda3\\lib\\site-packages (from ensure==1.0.2) (1.16.0)\n",
      "Installing collected packages: ensure\n",
      "Successfully installed ensure-1.0.2\n"
     ]
    },
    {
     "name": "stderr",
     "output_type": "stream",
     "text": [
      "\n",
      "[notice] A new release of pip available: 22.3 -> 24.2\n",
      "[notice] To update, run: python.exe -m pip install --upgrade pip\n"
     ]
    }
   ],
   "source": [
    "! pip install python-box\n",
    "! pip install pyYAML\n",
    "! pip install ensure==1.0.2"
   ]
  },
  {
   "cell_type": "code",
   "execution_count": 51,
   "metadata": {},
   "outputs": [],
   "source": [
    "import os\n",
    "from utils import read_yaml\n",
    "from pathlib import Path\n",
    "import random\n",
    "from utils import compositions\n",
    "from utils import browserHeaders\n",
    "from utils import browser\n",
    "from bs4 import BeautifulSoup\n",
    "import requests\n",
    "import pandas as pd\n",
    "\n",
    "\n",
    "global headersKey\n",
    "headersKey = [\"Chrome\", \"Edge\", \"Firefox\", \"IE\", \"Other\"]\n",
    "\n",
    "os.getcwd()\n",
    "\n",
    "package_dir = os.path.dirname(os.getcwd())\n",
    "h = random.choice(browser)\n",
    "header= browserHeaders.get(h)"
   ]
  },
  {
   "cell_type": "code",
   "execution_count": 36,
   "metadata": {},
   "outputs": [
    {
     "data": {
      "text/plain": [
       "'Other'"
      ]
     },
     "execution_count": 36,
     "metadata": {},
     "output_type": "execute_result"
    }
   ],
   "source": [
    "h"
   ]
  },
  {
   "cell_type": "code",
   "execution_count": 37,
   "metadata": {},
   "outputs": [],
   "source": [
    "header"
   ]
  },
  {
   "cell_type": "code",
   "execution_count": 102,
   "metadata": {},
   "outputs": [
    {
     "name": "stdout",
     "output_type": "stream",
     "text": [
      "Ligue 2\n"
     ]
    }
   ],
   "source": [
    "\n",
    "validLeagues = [league for league in compositions.keys()]\n",
    "choiceurl = random.choice(validLeagues)\n",
    "url = compositions[choiceurl]['history url']\n",
    "#url = compositions[\"La Liga\"]['history url']\n",
    "print(choiceurl)\n",
    "response = requests.get(url=url, headers=header)"
   ]
  },
  {
   "cell_type": "code",
   "execution_count": null,
   "metadata": {},
   "outputs": [],
   "source": []
  },
  {
   "cell_type": "code",
   "execution_count": 103,
   "metadata": {},
   "outputs": [],
   "source": [
    "soup = BeautifulSoup(response.content, 'html.parser')"
   ]
  },
  {
   "cell_type": "code",
   "execution_count": 104,
   "metadata": {},
   "outputs": [
    {
     "data": {
      "text/plain": [
       "<table class=\"sortable stats_table\" data-cols-to-freeze=\",1\" id=\"seasons\">\n",
       "<caption>Ligue 2 Seasons Table</caption>\n",
       "<colgroup><col/><col/><col/><col/><col/></colgroup>\n",
       "<thead>\n",
       "<tr>\n",
       "<th aria-label=\"Season\" class=\"poptip center\" data-stat=\"year_id\" data-tip=\"Season&lt;br&gt;Winter leagues generally run from August to May of the following year.&lt;br&gt;Summer leagues generally run from February to November of the same year.\" scope=\"col\">Season</th>\n",
       "<th aria-label=\"Competition Name\" class=\"poptip center\" data-stat=\"league_name\" data-tip=\"Name the competition was known as for that season\" scope=\"col\">Competition Name</th>\n",
       "<th aria-label=\"# Squads\" class=\"poptip center\" data-stat=\"num_teams\" data-tip=\"No. of squads participating in competition.\" scope=\"col\"># Squads</th>\n",
       "<th aria-label=\"Champion\" class=\"poptip center\" data-stat=\"champ\" data-tip=\"League champion for that season\" scope=\"col\">Champion</th>\n",
       "<th aria-label=\"Top Scorer\" class=\"poptip center\" data-stat=\"top_scorers\" data-tip=\"Player with most goals in competition\" scope=\"col\">Top Scorer</th>\n",
       "</tr>\n",
       "</thead>\n",
       "<tbody><tr><th class=\"left\" data-stat=\"year_id\" scope=\"row\"><a href=\"/en/comps/60/Ligue-2-Stats\">2024-2025</a></th><td class=\"left\" data-stat=\"league_name\"><a href=\"/en/comps/60/Ligue-2-Stats\">Ligue 2</a></td><td class=\"right\" data-stat=\"num_teams\">18</td><td class=\"left iz\" csk=\" - 2024\" data-stat=\"champ\"></td><td class=\"right\" csk=\"2\" data-stat=\"top_scorers\"><a href=\"/en/players/5b2bfb94/Taylor-Luvambo\">Taylor Luvambo</a> - <span>2</span></td></tr>\n",
       "<tr><th class=\"left\" data-stat=\"year_id\" scope=\"row\"><a href=\"/en/comps/60/2023-2024/2023-2024-Ligue-2-Stats\">2023-2024</a></th><td class=\"left\" data-stat=\"league_name\"><a href=\"/en/comps/60/2023-2024/2023-2024-Ligue-2-Stats\">Ligue 2</a></td><td class=\"right\" data-stat=\"num_teams\">20</td><td class=\"left\" csk=\"Auxerre - 2023\" data-stat=\"champ\"><a href=\"/en/squads/5ae09109/2023-2024/Auxerre-Stats\">Auxerre</a> - 74</td><td class=\"right\" csk=\"22\" data-stat=\"top_scorers\"><a href=\"/en/players/e067808c/Alexandre-Mendy\">Alexandre Mendy</a> - <span>22</span></td></tr>\n",
       "<tr><th class=\"left\" data-stat=\"year_id\" scope=\"row\"><a href=\"/en/comps/60/2022-2023/2022-2023-Ligue-2-Stats\">2022-2023</a></th><td class=\"left\" data-stat=\"league_name\"><a href=\"/en/comps/60/2022-2023/2022-2023-Ligue-2-Stats\">Ligue 2</a></td><td class=\"right\" data-stat=\"num_teams\">20</td><td class=\"left\" csk=\"Le Havre - 2022\" data-stat=\"champ\"><a href=\"/en/squads/5c2737db/2022-2023/Le-Havre-Stats\">Le Havre</a> - 75</td><td class=\"right\" csk=\"23\" data-stat=\"top_scorers\"><a href=\"/en/players/4788cb6b/Georges-Mikautadze\">Georges Mikautadze</a> - <span>23</span></td></tr>\n",
       "<tr><th class=\"left\" data-stat=\"year_id\" scope=\"row\"><a href=\"/en/comps/60/2021-2022/2021-2022-Ligue-2-Stats\">2021-2022</a></th><td class=\"left\" data-stat=\"league_name\"><a href=\"/en/comps/60/2021-2022/2021-2022-Ligue-2-Stats\">Ligue 2</a></td><td class=\"right\" data-stat=\"num_teams\">20</td><td class=\"left\" csk=\"Toulouse - 2021\" data-stat=\"champ\"><a href=\"/en/squads/3f8c4b5f/2021-2022/Toulouse-Stats\">Toulouse</a> - 79</td><td class=\"right\" csk=\"20\" data-stat=\"top_scorers\"><a href=\"/en/players/07ace8c3/Rhys-Healey\">Rhys Healey</a> - <span>20</span></td></tr>\n",
       "<tr><th class=\"left\" data-stat=\"year_id\" scope=\"row\"><a href=\"/en/comps/60/2020-2021/2020-2021-Ligue-2-Stats\">2020-2021</a></th><td class=\"left\" data-stat=\"league_name\"><a href=\"/en/comps/60/2020-2021/2020-2021-Ligue-2-Stats\">Ligue 2</a></td><td class=\"right\" data-stat=\"num_teams\">20</td><td class=\"left\" csk=\"Troyes - 2020\" data-stat=\"champ\"><a href=\"/en/squads/54195385/2020-2021/Troyes-Stats\">Troyes</a> - 77</td><td class=\"right\" csk=\"22\" data-stat=\"top_scorers\"><a href=\"/en/players/01870104/Mohamed-Lamine-Bayo\">Mohamed Lamine Bayo</a> - <span>22</span></td></tr>\n",
       "<tr><th class=\"left\" data-stat=\"year_id\" scope=\"row\"><a href=\"/en/comps/60/2019-2020/2019-2020-Ligue-2-Stats\">2019-2020</a></th><td class=\"left\" data-stat=\"league_name\"><a href=\"/en/comps/60/2019-2020/2019-2020-Ligue-2-Stats\">Ligue 2</a></td><td class=\"right\" data-stat=\"num_teams\">20</td><td class=\"left\" csk=\"Lorient - 2019\" data-stat=\"champ\"><a href=\"/en/squads/d2c87802/2019-2020/Lorient-Stats\">Lorient</a> - 54</td><td class=\"right\" csk=\"20\" data-stat=\"top_scorers\"><a href=\"/en/players/7d08063d/Tino-Kadewere\">Tino Kadewere</a> - <span>20</span></td></tr>\n",
       "<tr><th class=\"left\" data-stat=\"year_id\" scope=\"row\"><a href=\"/en/comps/60/2018-2019/2018-2019-Ligue-2-Stats\">2018-2019</a></th><td class=\"left\" data-stat=\"league_name\"><a href=\"/en/comps/60/2018-2019/2018-2019-Ligue-2-Stats\">Ligue 2</a></td><td class=\"right\" data-stat=\"num_teams\">20</td><td class=\"left\" csk=\"Metz - 2018\" data-stat=\"champ\"><a href=\"/en/squads/f83960ae/2018-2019/Metz-Stats\">Metz</a> - 81</td><td class=\"right\" csk=\"27\" data-stat=\"top_scorers\"><a href=\"/en/players/18ebca4b/Gaetan-Charbonnier\">Gaëtan Charbonnier</a> - <span>27</span></td></tr>\n",
       "<tr><th class=\"left\" data-stat=\"year_id\" scope=\"row\"><a href=\"/en/comps/60/2017-2018/2017-2018-Ligue-2-Stats\">2017-2018</a></th><td class=\"left\" data-stat=\"league_name\"><a href=\"/en/comps/60/2017-2018/2017-2018-Ligue-2-Stats\">Ligue 2</a></td><td class=\"right\" data-stat=\"num_teams\">20</td><td class=\"left\" csk=\"Reims - 2017\" data-stat=\"champ\"><a href=\"/en/squads/7fdd64e0/2017-2018/Reims-Stats\">Reims</a> - 88</td><td class=\"right\" csk=\"24\" data-stat=\"top_scorers\"><a href=\"/en/players/6e2c94ad/Umut-Bozok\">Umut Bozok</a> - <span>24</span></td></tr>\n",
       "<tr><th class=\"left\" data-stat=\"year_id\" scope=\"row\"><a href=\"/en/comps/60/2016-2017/2016-2017-Ligue-2-Stats\">2016-2017</a></th><td class=\"left\" data-stat=\"league_name\"><a href=\"/en/comps/60/2016-2017/2016-2017-Ligue-2-Stats\">Ligue 2</a></td><td class=\"right\" data-stat=\"num_teams\">20</td><td class=\"left\" csk=\"Strasbourg - 2016\" data-stat=\"champ\"><a href=\"/en/squads/c0d3eab4/2016-2017/Strasbourg-Stats\">Strasbourg</a> - 67</td><td class=\"right\" csk=\"23\" data-stat=\"top_scorers\"><a href=\"/en/players/1ac3b888/Adama-Niane\">Adama Niane</a> - <span>23</span></td></tr>\n",
       "<tr><th class=\"left\" data-stat=\"year_id\" scope=\"row\"><a href=\"/en/comps/60/2015-2016/2015-2016-Ligue-2-Stats\">2015-2016</a></th><td class=\"left\" data-stat=\"league_name\"><a href=\"/en/comps/60/2015-2016/2015-2016-Ligue-2-Stats\">Ligue 2</a></td><td class=\"right\" data-stat=\"num_teams\">20</td><td class=\"left\" csk=\"Nancy - 2015\" data-stat=\"champ\"><a href=\"/en/squads/e88fc6e5/2015-2016/Nancy-Stats\">Nancy</a> - 74</td><td class=\"right\" csk=\"21\" data-stat=\"top_scorers\"><a href=\"/en/players/e447352c/Famara-Diedhiou\">Famara Diedhiou</a> - <span>21</span></td></tr>\n",
       "<tr><th class=\"left\" data-stat=\"year_id\" scope=\"row\"><a href=\"/en/comps/60/2014-2015/2014-2015-Ligue-2-Stats\">2014-2015</a></th><td class=\"left\" data-stat=\"league_name\"><a href=\"/en/comps/60/2014-2015/2014-2015-Ligue-2-Stats\">Ligue 2</a></td><td class=\"right\" data-stat=\"num_teams\">20</td><td class=\"left\" csk=\"Troyes - 2014\" data-stat=\"champ\"><a href=\"/en/squads/54195385/2014-2015/Troyes-Stats\">Troyes</a> - 78</td><td class=\"right\" csk=\"18\" data-stat=\"top_scorers\"><a href=\"/en/players/d512db65/Mickael-Le-Bihan\">Mickaël Le Bihan</a> - <span>18</span></td></tr>\n",
       "<tr><th class=\"left\" data-stat=\"year_id\" scope=\"row\"><a href=\"/en/comps/60/2013-2014/2013-2014-Ligue-2-Stats\">2013-2014</a></th><td class=\"left\" data-stat=\"league_name\"><a href=\"/en/comps/60/2013-2014/2013-2014-Ligue-2-Stats\">Ligue 2</a></td><td class=\"right iz\" data-stat=\"num_teams\">0</td><td class=\"left\" csk=\"Metz - 2013\" data-stat=\"champ\"><a href=\"/en/squads/f83960ae/2013-2014/Metz-Stats\">Metz</a> - 76</td><td class=\"right\" csk=\"24\" data-stat=\"top_scorers\"><a href=\"/en/players/d68936b1/Mathieu-Duhamel\">Mathieu Duhamel</a>, <a href=\"/en/players/d33c706e/Andy-Delort\">Andy Delort</a> - <span>24</span></td></tr>\n",
       "<tr><th class=\"left\" data-stat=\"year_id\" scope=\"row\"><a href=\"/en/comps/60/2012-2013/2012-2013-Ligue-2-Stats\">2012-2013</a></th><td class=\"left\" data-stat=\"league_name\"><a href=\"/en/comps/60/2012-2013/2012-2013-Ligue-2-Stats\">Ligue 2</a></td><td class=\"right iz\" data-stat=\"num_teams\">0</td><td class=\"left\" csk=\"Monaco - 2012\" data-stat=\"champ\"><a href=\"/en/squads/fd6114db/2012-2013/Monaco-Stats\">Monaco</a> - 76</td><td class=\"right\" csk=\"22\" data-stat=\"top_scorers\"><a href=\"/en/players/398dc4f4/Mustapha-Yatabare\">Mustapha Yatabaré</a> - <span>22</span></td></tr>\n",
       "<tr><th class=\"left\" data-stat=\"year_id\" scope=\"row\"><a href=\"/en/comps/60/2011-2012/2011-2012-Ligue-2-Stats\">2011-2012</a></th><td class=\"left\" data-stat=\"league_name\"><a href=\"/en/comps/60/2011-2012/2011-2012-Ligue-2-Stats\">Ligue 2</a></td><td class=\"right iz\" data-stat=\"num_teams\">0</td><td class=\"left\" csk=\"Bastia - 2011\" data-stat=\"champ\"><a href=\"/en/squads/6283be2c/2011-2012/Bastia-Stats\">Bastia</a> - 71</td><td class=\"right\" csk=\"15\" data-stat=\"top_scorers\"><a href=\"/en/players/6ffcea42/Cedric-Faure\">Cédric Fauré</a> - <span>15</span></td></tr>\n",
       "<tr><th class=\"left\" data-stat=\"year_id\" scope=\"row\"><a href=\"/en/comps/60/2010-2011/2010-2011-Ligue-2-Stats\">2010-2011</a></th><td class=\"left\" data-stat=\"league_name\"><a href=\"/en/comps/60/2010-2011/2010-2011-Ligue-2-Stats\">Ligue 2</a></td><td class=\"right iz\" data-stat=\"num_teams\">0</td><td class=\"left\" csk=\"Evian - 2010\" data-stat=\"champ\"><a href=\"/en/squads/633fbb6e/2010-2011/Evian-Stats\">Evian</a> - 67</td><td class=\"right\" csk=\"23\" data-stat=\"top_scorers\"><a href=\"/en/players/ac90267e/Sebastian-Ribas\">Sebastián Ribas</a> - <span>23</span></td></tr>\n",
       "<tr><th class=\"left\" data-stat=\"year_id\" scope=\"row\"><a href=\"/en/comps/60/2009-2010/2009-2010-Ligue-2-Stats\">2009-2010</a></th><td class=\"left\" data-stat=\"league_name\"><a href=\"/en/comps/60/2009-2010/2009-2010-Ligue-2-Stats\">Ligue 2</a></td><td class=\"right iz\" data-stat=\"num_teams\">0</td><td class=\"left\" csk=\"Caen - 2009\" data-stat=\"champ\"><a href=\"/en/squads/74229020/2009-2010/Caen-Stats\">Caen</a> - 69</td><td class=\"right\" csk=\"21\" data-stat=\"top_scorers\"><a href=\"/en/players/16ceb862/Olivier-Giroud\">Olivier Giroud</a> - <span>21</span></td></tr>\n",
       "</tbody></table>"
      ]
     },
     "execution_count": 104,
     "metadata": {},
     "output_type": "execute_result"
    }
   ],
   "source": [
    "soup.find(\"table\")"
   ]
  },
  {
   "cell_type": "code",
   "execution_count": 105,
   "metadata": {},
   "outputs": [
    {
     "name": "stdout",
     "output_type": "stream",
     "text": [
      "Year: 2024-2025, Top Scorer: Taylor Luvambo, Goals: 2, Club: , Link: https://fbref.com/en/players/5b2bfb94/Taylor-Luvambo\n",
      "Year: 2023-2024, Top Scorer: Alexandre Mendy, Goals: 22, Club: Auxerre, Link: https://fbref.com/en/players/e067808c/Alexandre-Mendy\n",
      "Year: 2022-2023, Top Scorer: Georges Mikautadze, Goals: 23, Club: Le Havre, Link: https://fbref.com/en/players/4788cb6b/Georges-Mikautadze\n",
      "Year: 2021-2022, Top Scorer: Rhys Healey, Goals: 20, Club: Toulouse, Link: https://fbref.com/en/players/07ace8c3/Rhys-Healey\n",
      "Year: 2020-2021, Top Scorer: Mohamed Lamine Bayo, Goals: 22, Club: Troyes, Link: https://fbref.com/en/players/01870104/Mohamed-Lamine-Bayo\n",
      "Year: 2019-2020, Top Scorer: Tino Kadewere, Goals: 20, Club: Lorient, Link: https://fbref.com/en/players/7d08063d/Tino-Kadewere\n",
      "Year: 2018-2019, Top Scorer: Gaëtan Charbonnier, Goals: 27, Club: Metz, Link: https://fbref.com/en/players/18ebca4b/Gaetan-Charbonnier\n",
      "Year: 2017-2018, Top Scorer: Umut Bozok, Goals: 24, Club: Reims, Link: https://fbref.com/en/players/6e2c94ad/Umut-Bozok\n",
      "Year: 2016-2017, Top Scorer: Adama Niane, Goals: 23, Club: Strasbourg, Link: https://fbref.com/en/players/1ac3b888/Adama-Niane\n",
      "Year: 2015-2016, Top Scorer: Famara Diedhiou, Goals: 21, Club: Nancy, Link: https://fbref.com/en/players/e447352c/Famara-Diedhiou\n",
      "Year: 2014-2015, Top Scorer: Mickaël Le Bihan, Goals: 18, Club: Troyes, Link: https://fbref.com/en/players/d512db65/Mickael-Le-Bihan\n",
      "Year: 2013-2014, Top Scorer: Mathieu Duhamel, Goals: 24, Club: Metz, Link: https://fbref.com/en/players/d68936b1/Mathieu-Duhamel\n",
      "Year: 2012-2013, Top Scorer: Mustapha Yatabaré, Goals: 22, Club: Monaco, Link: https://fbref.com/en/players/398dc4f4/Mustapha-Yatabare\n",
      "Year: 2011-2012, Top Scorer: Cédric Fauré, Goals: 15, Club: Bastia, Link: https://fbref.com/en/players/6ffcea42/Cedric-Faure\n",
      "Year: 2010-2011, Top Scorer: Sebastián Ribas, Goals: 23, Club: Evian, Link: https://fbref.com/en/players/ac90267e/Sebastian-Ribas\n",
      "Year: 2009-2010, Top Scorer: Olivier Giroud, Goals: 21, Club: Caen, Link: https://fbref.com/en/players/16ceb862/Olivier-Giroud\n"
     ]
    }
   ],
   "source": [
    "# Find all rows (tr) corresponding to a season\n",
    "rows = soup.find_all('tr')\n",
    "\n",
    "# Initialize a list to store the results\n",
    "top_scorers_data = []\n",
    "\n",
    "# Loop through each row to extract the desired information\n",
    "for row in rows:\n",
    "    # Extract the year\n",
    "    year = row.find('th', {'data-stat': 'year_id'}).text.strip()\n",
    "\n",
    "    # Extract the top scorer cell\n",
    "    top_scorer_cell = row.find('td', {'data-stat': 'top_scorers'})\n",
    "\n",
    "    if top_scorer_cell and top_scorer_cell.find('a'):\n",
    "        # Extract the top scorer's name\n",
    "        top_scorer_name = top_scorer_cell.find('a').text.strip()\n",
    "\n",
    "        # Extract the link to the top scorer's stats\n",
    "        top_scorer_link = \"https://fbref.com\" + top_scorer_cell.find('a')['href']\n",
    "\n",
    "        # Extract the number of goals scored by the top scorer\n",
    "        top_score_goals = top_scorer_cell.find('span').text.strip()\n",
    "\n",
    "        # Extract the club name (assuming it's stored in the champion column)\n",
    "        champ_cell = row.find('td', {'data-stat': 'champ'})\n",
    "        top_score_club = champ_cell.text.split('-')[0].strip() if champ_cell else \"Unknown\"\n",
    "\n",
    "        # Add the extracted information to the list\n",
    "        top_scorers_data.append({\n",
    "            'year': year,\n",
    "            'top_scorer': top_scorer_name,\n",
    "            'goals': top_score_goals,\n",
    "            'stats_link': top_scorer_link,\n",
    "            'club': top_score_club\n",
    "        })\n",
    "\n",
    "# Display the results\n",
    "for data in top_scorers_data:\n",
    "    print(f\"Year: {data['year']}, Top Scorer: {data['top_scorer']}, Goals: {data['goals']}, Club: {data['club']}, Link: {data['stats_link']}\")\n"
   ]
  },
  {
   "cell_type": "code",
   "execution_count": 97,
   "metadata": {},
   "outputs": [],
   "source": [
    "seasonUrls = dict([(x.text, x.find('a')['href'])\n",
    "                    for x in soup.find_all('td', {'data-stat': True, 'csk': True,'class': True})\n",
    "            if x.find('a') is not None])\n"
   ]
  },
  {
   "cell_type": "code",
   "execution_count": 69,
   "metadata": {},
   "outputs": [
    {
     "data": {
      "text/plain": [
       "{'Robert Lewandowski - 2': '/en/players/8d78e732/Robert-Lewandowski',\n",
       " 'Real Madrid - 95': '/en/squads/53a2f082/2023-2024/Real-Madrid-Stats',\n",
       " 'Artem Dovbyk - 24': '/en/players/5b847bb0/Artem-Dovbyk',\n",
       " 'Barcelona - 88': '/en/squads/206d90db/2022-2023/Barcelona-Stats',\n",
       " 'Robert Lewandowski - 23': '/en/players/8d78e732/Robert-Lewandowski',\n",
       " 'Real Madrid - 86': '/en/squads/53a2f082/2021-2022/Real-Madrid-Stats',\n",
       " 'Karim Benzema - 27': '/en/players/70d74ece/Karim-Benzema',\n",
       " 'Atlético Madrid - 86': '/en/squads/db3b9613/2020-2021/Atletico-Madrid-Stats',\n",
       " 'Lionel Messi - 30': '/en/players/d70ce98e/Lionel-Messi',\n",
       " 'Real Madrid - 87': '/en/squads/53a2f082/2019-2020/Real-Madrid-Stats',\n",
       " 'Lionel Messi - 25': '/en/players/d70ce98e/Lionel-Messi',\n",
       " 'Barcelona - 87': '/en/squads/206d90db/2008-2009/Barcelona-Stats',\n",
       " 'Lionel Messi - 36': '/en/players/d70ce98e/Lionel-Messi',\n",
       " 'Barcelona - 93': '/en/squads/206d90db/2017-2018/Barcelona-Stats',\n",
       " 'Lionel Messi - 34': '/en/players/d70ce98e/Lionel-Messi',\n",
       " 'Real Madrid - 93': '/en/squads/53a2f082/2016-2017/Real-Madrid-Stats',\n",
       " 'Lionel Messi - 37': '/en/players/d70ce98e/Lionel-Messi',\n",
       " 'Barcelona - 91': '/en/squads/206d90db/2015-2016/Barcelona-Stats',\n",
       " 'Luis Suárez - 40': '/en/players/a6154613/Luis-Suarez',\n",
       " 'Barcelona - 94': '/en/squads/206d90db/2014-2015/Barcelona-Stats',\n",
       " 'Cristiano Ronaldo - 48': '/en/players/dea698d9/Cristiano-Ronaldo',\n",
       " 'Atlético Madrid - 90': '/en/squads/db3b9613/2013-2014/Atletico-Madrid-Stats',\n",
       " 'Cristiano Ronaldo - 31': '/en/players/dea698d9/Cristiano-Ronaldo',\n",
       " 'Barcelona - 100': '/en/squads/206d90db/2012-2013/Barcelona-Stats',\n",
       " 'Lionel Messi - 46': '/en/players/d70ce98e/Lionel-Messi',\n",
       " 'Real Madrid - 100': '/en/squads/53a2f082/2011-2012/Real-Madrid-Stats',\n",
       " 'Lionel Messi - 50': '/en/players/d70ce98e/Lionel-Messi',\n",
       " 'Barcelona - 96': '/en/squads/206d90db/2010-2011/Barcelona-Stats',\n",
       " 'Cristiano Ronaldo - 40': '/en/players/dea698d9/Cristiano-Ronaldo',\n",
       " 'Barcelona - 99': '/en/squads/206d90db/2009-2010/Barcelona-Stats',\n",
       " 'Diego Forlán - 32': '/en/players/d87d0dfc/Diego-Forlan',\n",
       " 'Real Madrid - 85': '/en/squads/53a2f082/2007-2008/Real-Madrid-Stats',\n",
       " 'Dani Güiza - 27': '/en/players/d863ea53/Dani-Guiza',\n",
       " 'Real Madrid - 76': '/en/squads/53a2f082/2006-2007/Real-Madrid-Stats',\n",
       " 'Ruud van Nistelrooy - 25': '/en/players/80a30989/Ruud-van-Nistelrooy',\n",
       " 'Barcelona - 82': '/en/squads/206d90db/2005-2006/Barcelona-Stats',\n",
       " \"Samuel Eto'o - 26\": '/en/players/06420c93/Samuel-Etoo',\n",
       " 'Barcelona - 84': '/en/squads/206d90db/2004-2005/Barcelona-Stats',\n",
       " \"Samuel Eto'o, Diego Forlán - 24\": '/en/players/06420c93/Samuel-Etoo',\n",
       " 'Valencia - 77': '/en/squads/dcc91a7b/2003-2004/Valencia-Stats',\n",
       " 'Ronaldo - 24': '/en/players/57feb553/Ronaldo',\n",
       " 'Real Madrid - 78': '/en/squads/53a2f082/2002-2003/Real-Madrid-Stats',\n",
       " 'Roy Makaay - 29': '/en/players/22cd2356/Roy-Makaay',\n",
       " 'Valencia - 75': '/en/squads/dcc91a7b/2001-2002/Valencia-Stats',\n",
       " 'Diego Tristán - 21': '/en/players/e63209c5/Diego-Tristan',\n",
       " 'Real Madrid - 80': '/en/squads/53a2f082/2000-2001/Real-Madrid-Stats',\n",
       " 'Raúl - 24': '/en/players/2b81295d/Raul',\n",
       " 'Deportivo La Coruña - 69': '/en/squads/2a60ed82/1999-2000/Deportivo-La-Coruna-Stats',\n",
       " 'Salva Ballesta - 27': '/en/players/bd42bcb8/Salva-Ballesta',\n",
       " 'Barcelona - 79': '/en/squads/206d90db/1998-1999/Barcelona-Stats',\n",
       " 'Raúl - 25': '/en/players/2b81295d/Raul',\n",
       " 'Barcelona - 74': '/en/squads/206d90db/1997-1998/Barcelona-Stats',\n",
       " 'Christian Vieri - 24': '/en/players/1abff24a/Christian-Vieri',\n",
       " 'Real Madrid - 92': '/en/squads/53a2f082/1996-1997/Real-Madrid-Stats',\n",
       " 'Ronaldo - 34': '/en/players/57feb553/Ronaldo',\n",
       " 'Atlético Madrid - 87': '/en/squads/db3b9613/1995-1996/Atletico-Madrid-Stats',\n",
       " 'Juan Antonio Pizzi - 31': '/en/players/f8011e5c/Juan-Antonio-Pizzi',\n",
       " 'Real Madrid - 55': '/en/squads/53a2f082/1994-1995/Real-Madrid-Stats',\n",
       " 'Iván Zamorano - 28': '/en/players/b581c76d/Ivan-Zamorano',\n",
       " 'Barcelona - 56': '/en/squads/206d90db/1993-1994/Barcelona-Stats',\n",
       " 'Romário - 30': '/en/players/e8fad689/Romario',\n",
       " 'Barcelona - 58': '/en/squads/206d90db/1992-1993/Barcelona-Stats',\n",
       " 'Bebeto - 29': '/en/players/c837c895/Bebeto',\n",
       " 'Barcelona - 55': '/en/squads/206d90db/1991-1992/Barcelona-Stats',\n",
       " 'Manolo - 27': '/en/players/0b6a3800/Manolo',\n",
       " 'Barcelona - 57': '/en/squads/206d90db/1990-1991/Barcelona-Stats',\n",
       " 'Emilio Butragueño - 19': '/en/players/7fec65ff/Emilio-Butragueno',\n",
       " 'Real Madrid - 62': '/en/squads/53a2f082/1988-1989/Real-Madrid-Stats',\n",
       " 'Hugo Sánchez - 38': '/en/players/8378e03e/Hugo-Sanchez',\n",
       " 'Baltazar Maria de Morais Júnior - 35': '/en/players/1cf74d33/Baltazar-Maria-de-Morais-Junior'}"
      ]
     },
     "execution_count": 69,
     "metadata": {},
     "output_type": "execute_result"
    }
   ],
   "source": [
    "seasonUrls"
   ]
  },
  {
   "cell_type": "code",
   "execution_count": null,
   "metadata": {},
   "outputs": [],
   "source": []
  }
 ],
 "metadata": {
  "kernelspec": {
   "display_name": "Python 3",
   "language": "python",
   "name": "python3"
  },
  "language_info": {
   "codemirror_mode": {
    "name": "ipython",
    "version": 3
   },
   "file_extension": ".py",
   "mimetype": "text/x-python",
   "name": "python",
   "nbconvert_exporter": "python",
   "pygments_lexer": "ipython3",
   "version": "3.9.13"
  }
 },
 "nbformat": 4,
 "nbformat_minor": 2
}
